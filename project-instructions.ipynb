{
 "cells": [
  {
   "cell_type": "markdown",
   "metadata": {},
   "source": [
    "# Project - deep learning modeling and optimization\n",
    "\n",
    "In this project you'll be required to implement an architecture of a network, train it on dataset while comparing different optimizers and eventually optimize it using TensorRT.\n",
    "\n",
    "## Implement and train the model\n",
    "Hereby shown the architecture of a well known classifier VGG-19:\n",
    "\n",
    "|Layer Type|\tFeature Map|\tSize\t|Kernel Size|\tStride\t|Activation|\n",
    "| :-: | :-: | :-: | :-: | :-: | :-: |\n",
    "|Image|\t1\t|224×224|\t–|\t–|\t–|\n",
    "|Convolution|\t64|\t224×224|\t3×3|\t1|\tReLU|\n",
    "|Convolution|\t64|\t224×224|\t3×3|\t1|\tReLU|\n",
    "|Max Pooling|\t64|\t112×112|\t2×2|\t2|\t–|\n",
    "|Convolution|\t128|\t112×112|\t3×3|\t1|\tReLU|\n",
    "|Convolution|\t128|\t112×112|\t3×3|\t1|\tReLU|\n",
    "|Max Pooling|\t128|\t56×56|\t2×2|\t2|\t–|\n",
    "|Convolution|\t256|\t56×56|\t3×3|\t1|\tReLU|\n",
    "|Convolution|\t256|\t56×56|\t3×3|\t1|\tReLU|\n",
    "|Convolution|\t256|\t56×56|\t3×3|\t1|\tReLU|\n",
    "|Convolution|\t256|\t56×56|\t3×3|\t1|\tReLU|\n",
    "|Max Pooling|\t256|\t28×28|\t2×2|\t2|\t–|\n",
    "|Convolution|\t512|\t28×28|\t3×3|\t1|\tReLU|\n",
    "|Convolution|\t512|\t28×28|\t3×3|\t1|\tReLU|\n",
    "|Convolution|\t512|\t28×28|\t3×3|\t1|\tReLU|\n",
    "|Convolution|\t512|\t28×28|\t3×3|\t1|\tReLU|\n",
    "|Max Pooling|\t512|\t14×14|\t2×2|\t2|\t–|\n",
    "|Convolution|\t512|\t14×14|\t3×3|\t1|\tReLU|\n",
    "|Convolution|\t512|\t14×14|\t3×3|\t1|\tReLU|\n",
    "|Convolution|\t512|\t14×14|\t3×3|\t1|\tReLU|\n",
    "|Convolution|\t512|\t14×14|\t3×3|\t1|\tReLU|\n",
    "|Max Pooling|\t512|\t7×7|\t2×2|\t2|\t–|\n",
    "|Fully Connected|\t–|\t4096|\t–|\t–|\tReLU|\n",
    "|Fully Connected|\t–|\t4096|\t–|\t–|\tReLU|\n",
    "|Fully Connected|\t–|\t1000|\t–|\t–|\tSoftmax|\n",
    "\n",
    "Please implement this network architecture in tensorflow and train it using the imagenet_v2 dataset (you can use tensorflow integrated dataset for imagenet_v2 - https://www.tensorflow.org/datasets/catalog/imagenet_v2)\n",
    "\n",
    "While training please explore usage of two different optimizers, compare the both and state your selection and reason.\n",
    "\n",
    "Use crossentropy for loss function (categorical crossentropy if working with categorical labels).\n",
    "\n",
    "Choose the proper metrics to evaluate model performance and perform model evaluation.\n"
   ]
  },
  {
   "cell_type": "markdown",
   "metadata": {},
   "source": [
    "http://datahacker.rs/vgg16-vgg19-network-implemented-tensorflow-2-0/"
   ]
  },
  {
   "cell_type": "markdown",
   "metadata": {},
   "source": [
    "## Optimize the model using TensorRT\n",
    "\n",
    "After training of the model and evaluating it, your goal is to optimize the model for inference on target machine using TensorRT (use TF-TRT in this project).\n",
    "\n",
    "Try quantizing the model for different percisions using TensorRT quantization features, compare the different percision modes and recommand what you choose.\n",
    "\n",
    "> Bonus: if you were working on Tesla T4 GPU, what percision mode had you chosen then?"
   ]
  },
  {
   "cell_type": "code",
   "execution_count": null,
   "metadata": {},
   "outputs": [],
   "source": []
  }
 ],
 "metadata": {
  "kernelspec": {
   "display_name": "Python 3",
   "language": "python",
   "name": "python3"
  },
  "language_info": {
   "codemirror_mode": {
    "name": "ipython",
    "version": 3
   },
   "file_extension": ".py",
   "mimetype": "text/x-python",
   "name": "python",
   "nbconvert_exporter": "python",
   "pygments_lexer": "ipython3",
   "version": "3.8.5"
  }
 },
 "nbformat": 4,
 "nbformat_minor": 5
}
